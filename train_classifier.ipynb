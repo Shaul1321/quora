{
 "cells": [
  {
   "cell_type": "code",
   "execution_count": 111,
   "metadata": {},
   "outputs": [
    {
     "name": "stdout",
     "output_type": "stream",
     "text": [
      "The autoreload extension is already loaded. To reload it, use:\n",
      "  %reload_ext autoreload\n"
     ]
    }
   ],
   "source": [
    "import pickle\n",
    "import numpy as np\n",
    "import torch\n",
    "import pytorch_lightning as pl\n",
    "from pytorch_lightning import Trainer\n",
    "import loss\n",
    "import scipy\n",
    "from scipy import linalg\n",
    "%load_ext autoreload\n",
    "%autoreload 2"
   ]
  },
  {
   "cell_type": "code",
   "execution_count": 70,
   "metadata": {},
   "outputs": [],
   "source": [
    "with open(\"data.sample.25k.bert-large.pickle\", \"rb\") as f:\n",
    "    data = pickle.load(f)"
   ]
  },
  {
   "cell_type": "code",
   "execution_count": 127,
   "metadata": {},
   "outputs": [],
   "source": [
    "class Dataset(torch.utils.data.Dataset):\n",
    "    \n",
    "    \"\"\"Simple torch dataset class\"\"\"\n",
    "    def __init__(self, data):\n",
    "\n",
    "        self.data = data\n",
    "\n",
    "    def __len__(self):\n",
    "\n",
    "        return len(self.data)\n",
    "\n",
    "    def __getitem__(self, index):\n",
    "\n",
    "        with torch.no_grad():\n",
    "             \n",
    "            vec1_np, vec2_np, str1, str2, _ = self.data[index]\n",
    "            \n",
    "            vec1, vec2, str1, str2, pair_id = self.data[index]            \n",
    "            vec1, vec2 = torch.from_numpy(vec1_np).float(), torch.from_numpy(vec2_np).float()\n",
    "            return (vec1, vec2, str1, str2, pair_id)\n",
    "        \n",
    "        \n",
    "def get_nullspace_projection(W: np.ndarray) -> np.ndarray:\n",
    "    \"\"\"\n",
    "    :param W: the matrix over its nullspace to project\n",
    "    :return: the projection matrix\n",
    "    \"\"\"\n",
    "    nullspace_basis = scipy.linalg.null_space(W)  # orthogonal basis\n",
    "\n",
    "    nullspace_basis = nullspace_basis * np.sign(nullspace_basis[0][0])  # handle sign ambiguity\n",
    "    projection_matrix = nullspace_basis.dot(nullspace_basis.T)\n",
    "\n",
    "    return projection_matrix\n",
    "    \n",
    "    \n",
    "def get_rowspace_projection(W: np.ndarray) -> np.ndarray:\n",
    "    \"\"\"\n",
    "    :param W: the matrix over its nullspace to project\n",
    "    :return: the projection matrix\n",
    "    \"\"\"\n",
    "\n",
    "    w_basis = scipy.linalg.orth(W.T) # orthogonal basis\n",
    "    w_basis * np.sign(w_basis[0][0]) # handle sign ambiguity\n",
    "    P_W = w_basis.dot(w_basis.T) # orthogonal projection on W's rowspace\n",
    "    \n",
    "    return P_W"
   ]
  },
  {
   "cell_type": "code",
   "execution_count": 74,
   "metadata": {},
   "outputs": [],
   "source": [
    "class Siamese(pl.LightningModule):\n",
    "\n",
    "    def __init__(self, X_train, X_dev, dim, batch_size):\n",
    "        super(Siamese, self).__init__()\n",
    "        self.l = torch.nn.Linear(1024, dim)\n",
    "        \n",
    "        self.train_data = Dataset(X_train)\n",
    "        self.dev_data = Dataset(X_dev)\n",
    "        self.train_gen = torch.utils.data.DataLoader(self.train_data, batch_size = batch_size, drop_last = False, shuffle=True)\n",
    "        self.dev_gen = torch.utils.data.DataLoader(self.dev_data, batch_size = batch_size, drop_last = False, shuffle=True)\n",
    "        self.loss_fn = loss.BatchHardTripletLoss(final = \"softmax\")\n",
    "        \n",
    "        self.acc = None\n",
    "        self.optimizer = torch.optim.Adam(self.parameters(), weight_decay = 1e-6)\n",
    "        \n",
    "    def forward(self, x1, x2):\n",
    "\n",
    "          h1 = self.l(x1)\n",
    "          h2 = self.l(x2)\n",
    "         \n",
    "          return h1, h2\n",
    " \n",
    "    def train_network(self, num_epochs):\n",
    "    \n",
    "      trainer = Trainer(max_nb_epochs = num_epochs, min_nb_epochs = num_epochs, show_progress_bar = True)\n",
    "      trainer.fit(self)\n",
    "\n",
    "      return self.acc   \n",
    "      \n",
    "    def get_weights(self):\n",
    "    \n",
    "        return self.l.weight.data.numpy()\n",
    "    \n",
    "    def training_step(self, batch, batch_nb):\n",
    "        # REQUIRED\n",
    "        x1, x2, str1, str2, ids = batch\n",
    "        h1, h2 = self.forward(x1, x2)\n",
    "        loss_val =  self.loss_fn(h1, h2, str1, str2, ids, index=0, evaluation = False)\n",
    "        \n",
    "        return {'loss': loss_val[0]}\n",
    "        \n",
    "\n",
    "    def validation_step(self, batch, batch_nb):\n",
    "    \n",
    "        # OPTIONAL\n",
    "        x1, x2, str1, str2, ids = batch\n",
    "        h1, h2 = self.forward(x1, x2)\n",
    "        loss_val =  self.loss_fn(h1, h2, str1, str2, ids, index=batch_nb, evaluation = True)\n",
    "        return {'val_loss': loss_val[0]}\n",
    "\n",
    "    def validation_end(self, outputs):\n",
    "        # OPTIONAL    \n",
    "        avg_loss = torch.stack([x['val_loss'] for x in outputs]).mean()\n",
    "        print(\"Loss is {}\".format(avg_loss))\n",
    "        return {'avg_val_loss': avg_loss}\n",
    "\n",
    "    def configure_optimizers(self):\n",
    "        # REQUIRED\n",
    "        return torch.optim.Adam(self.parameters(), weight_decay = 1e-4)\n",
    "\n",
    "    @pl.data_loader\n",
    "    def train_dataloader(self):\n",
    "        return self.train_gen\n",
    "\n",
    "    @pl.data_loader\n",
    "    def val_dataloader(self):\n",
    "        # OPTIONAL\n",
    "        # can also return a list of val dataloaders\n",
    "        return self.dev_gen"
   ]
  },
  {
   "cell_type": "code",
   "execution_count": 82,
   "metadata": {},
   "outputs": [
    {
     "name": "stderr",
     "output_type": "stream",
     "text": [
      "INFO:root:      Name                  Type Params\n",
      "0        l                Linear  262 K\n",
      "1  loss_fn  BatchHardTripletLoss    0  \n",
      "Epoch 1:   0%|          | 0/25 [00:00<?, ?batch/s]                       "
     ]
    },
    {
     "name": "stdout",
     "output_type": "stream",
     "text": [
      "Loss is 0.3076070249080658\n"
     ]
    },
    {
     "name": "stderr",
     "output_type": "stream",
     "text": [
      "Epoch 1:  80%|████████  | 20/25 [00:04<00:01,  4.80batch/s, batch_nb=19, loss=0.236, v_nb=24]\n",
      "Validating:   0%|          | 0/5 [00:00<?, ?batch/s]\u001b[A\n",
      "Epoch 1:  84%|████████▍ | 21/25 [00:04<00:00,  5.70batch/s, batch_nb=19, loss=0.236, v_nb=24]\n",
      "Epoch 1:  88%|████████▊ | 22/25 [00:04<00:00,  6.21batch/s, batch_nb=19, loss=0.236, v_nb=24]\n",
      "Epoch 1:  92%|█████████▏| 23/25 [00:04<00:00,  6.63batch/s, batch_nb=19, loss=0.236, v_nb=24]\n",
      "Epoch 1:  96%|█████████▌| 24/25 [00:04<00:00,  7.00batch/s, batch_nb=19, loss=0.236, v_nb=24]\n",
      "Epoch 1: 100%|██████████| 25/25 [00:04<00:00,  7.58batch/s, batch_nb=19, loss=0.236, v_nb=24]\n",
      "Epoch 2:   0%|          | 0/25 [00:00<00:03,  7.58batch/s, batch_nb=19, loss=0.236, v_nb=24] "
     ]
    },
    {
     "name": "stdout",
     "output_type": "stream",
     "text": [
      "Loss is 0.21157684922218323\n"
     ]
    },
    {
     "name": "stderr",
     "output_type": "stream",
     "text": [
      "Epoch 2:  80%|████████  | 20/25 [00:04<00:01,  4.88batch/s, batch_nb=19, loss=0.215, v_nb=24]\n",
      "Validating:   0%|          | 0/5 [00:00<?, ?batch/s]\u001b[A\n",
      "Epoch 2:  84%|████████▍ | 21/25 [00:04<00:00,  5.63batch/s, batch_nb=19, loss=0.215, v_nb=24]\n",
      "Epoch 2:  88%|████████▊ | 22/25 [00:04<00:00,  6.18batch/s, batch_nb=19, loss=0.215, v_nb=24]\n",
      "Epoch 2:  92%|█████████▏| 23/25 [00:04<00:00,  6.22batch/s, batch_nb=19, loss=0.215, v_nb=24]\n",
      "Epoch 2: 100%|██████████| 25/25 [00:04<00:00,  6.27batch/s, batch_nb=19, loss=0.215, v_nb=24]\n",
      "Epoch 3:   0%|          | 0/25 [00:00<00:03,  6.27batch/s, batch_nb=19, loss=0.215, v_nb=24] "
     ]
    },
    {
     "name": "stdout",
     "output_type": "stream",
     "text": [
      "Loss is 0.19035322964191437\n"
     ]
    },
    {
     "name": "stderr",
     "output_type": "stream",
     "text": [
      "Epoch 3:  80%|████████  | 20/25 [00:04<00:01,  4.88batch/s, batch_nb=19, loss=0.201, v_nb=24]\n",
      "Validating:   0%|          | 0/5 [00:00<?, ?batch/s]\u001b[A\n",
      "Epoch 3:  84%|████████▍ | 21/25 [00:04<00:00,  5.61batch/s, batch_nb=19, loss=0.201, v_nb=24]\n",
      "Epoch 3:  88%|████████▊ | 22/25 [00:04<00:00,  6.23batch/s, batch_nb=19, loss=0.201, v_nb=24]\n",
      "Epoch 3:  92%|█████████▏| 23/25 [00:04<00:00,  6.27batch/s, batch_nb=19, loss=0.201, v_nb=24]\n",
      "Epoch 3: 100%|██████████| 25/25 [00:04<00:00,  6.78batch/s, batch_nb=19, loss=0.201, v_nb=24]\n",
      "Epoch 4:   0%|          | 0/25 [00:00<00:03,  6.78batch/s, batch_nb=19, loss=0.201, v_nb=24] "
     ]
    },
    {
     "name": "stdout",
     "output_type": "stream",
     "text": [
      "Loss is 0.17495617270469666\n"
     ]
    },
    {
     "name": "stderr",
     "output_type": "stream",
     "text": [
      "Epoch 4:  80%|████████  | 20/25 [00:04<00:01,  4.73batch/s, batch_nb=19, loss=0.189, v_nb=24]\n",
      "Validating:   0%|          | 0/5 [00:00<?, ?batch/s]\u001b[A\n",
      "Epoch 4:  84%|████████▍ | 21/25 [00:04<00:00,  5.44batch/s, batch_nb=19, loss=0.189, v_nb=24]\n",
      "Epoch 4:  88%|████████▊ | 22/25 [00:04<00:00,  6.03batch/s, batch_nb=19, loss=0.189, v_nb=24]\n",
      "Epoch 4:  92%|█████████▏| 23/25 [00:04<00:00,  6.13batch/s, batch_nb=19, loss=0.189, v_nb=24]\n",
      "Epoch 4: 100%|██████████| 25/25 [00:04<00:00,  6.52batch/s, batch_nb=19, loss=0.189, v_nb=24]\n",
      "Epoch 5:   0%|          | 0/25 [00:00<00:03,  6.52batch/s, batch_nb=19, loss=0.189, v_nb=24] "
     ]
    },
    {
     "name": "stdout",
     "output_type": "stream",
     "text": [
      "Loss is 0.16759291291236877\n"
     ]
    },
    {
     "name": "stderr",
     "output_type": "stream",
     "text": [
      "Epoch 5:  80%|████████  | 20/25 [00:04<00:00,  5.20batch/s, batch_nb=19, loss=0.180, v_nb=24]\n",
      "Validating:   0%|          | 0/5 [00:00<?, ?batch/s]\u001b[A\n",
      "Epoch 5:  84%|████████▍ | 21/25 [00:04<00:00,  5.93batch/s, batch_nb=19, loss=0.180, v_nb=24]\n",
      "Epoch 5:  88%|████████▊ | 22/25 [00:04<00:00,  6.49batch/s, batch_nb=19, loss=0.180, v_nb=24]\n",
      "Epoch 5:  92%|█████████▏| 23/25 [00:04<00:00,  6.43batch/s, batch_nb=19, loss=0.180, v_nb=24]\n",
      "Epoch 5: 100%|██████████| 25/25 [00:04<00:00,  6.40batch/s, batch_nb=19, loss=0.180, v_nb=24]\n",
      "Epoch 6:   0%|          | 0/25 [00:00<00:03,  6.40batch/s, batch_nb=19, loss=0.180, v_nb=24] "
     ]
    },
    {
     "name": "stdout",
     "output_type": "stream",
     "text": [
      "Loss is 0.16256919503211975\n"
     ]
    },
    {
     "name": "stderr",
     "output_type": "stream",
     "text": [
      "Epoch 6:  80%|████████  | 20/25 [00:04<00:01,  4.52batch/s, batch_nb=19, loss=0.159, v_nb=24]\n",
      "Validating:   0%|          | 0/5 [00:00<?, ?batch/s]\u001b[A\n",
      "Epoch 6:  84%|████████▍ | 21/25 [00:04<00:00,  5.32batch/s, batch_nb=19, loss=0.159, v_nb=24]\n",
      "Epoch 6:  88%|████████▊ | 22/25 [00:04<00:00,  5.87batch/s, batch_nb=19, loss=0.159, v_nb=24]\n",
      "Epoch 6:  92%|█████████▏| 23/25 [00:04<00:00,  5.90batch/s, batch_nb=19, loss=0.159, v_nb=24]\n",
      "Epoch 6: 100%|██████████| 25/25 [00:04<00:00,  5.85batch/s, batch_nb=19, loss=0.159, v_nb=24]\n",
      "Epoch 7:   0%|          | 0/25 [00:00<00:04,  5.85batch/s, batch_nb=19, loss=0.159, v_nb=24] "
     ]
    },
    {
     "name": "stdout",
     "output_type": "stream",
     "text": [
      "Loss is 0.1599402278661728\n"
     ]
    },
    {
     "name": "stderr",
     "output_type": "stream",
     "text": [
      "Epoch 7:  80%|████████  | 20/25 [00:04<00:01,  4.66batch/s, batch_nb=19, loss=0.146, v_nb=24]\n",
      "Validating:   0%|          | 0/5 [00:00<?, ?batch/s]\u001b[A\n",
      "Epoch 7:  84%|████████▍ | 21/25 [00:04<00:00,  5.58batch/s, batch_nb=19, loss=0.146, v_nb=24]\n",
      "Epoch 7:  88%|████████▊ | 22/25 [00:04<00:00,  5.74batch/s, batch_nb=19, loss=0.146, v_nb=24]\n",
      "Epoch 7:  92%|█████████▏| 23/25 [00:04<00:00,  5.87batch/s, batch_nb=19, loss=0.146, v_nb=24]\n",
      "Epoch 7: 100%|██████████| 25/25 [00:04<00:00,  6.44batch/s, batch_nb=19, loss=0.146, v_nb=24]\n",
      "Epoch 8:   0%|          | 0/25 [00:00<00:03,  6.44batch/s, batch_nb=19, loss=0.146, v_nb=24] "
     ]
    },
    {
     "name": "stdout",
     "output_type": "stream",
     "text": [
      "Loss is 0.15479394793510437\n"
     ]
    },
    {
     "name": "stderr",
     "output_type": "stream",
     "text": [
      "Epoch 8:  80%|████████  | 20/25 [00:03<00:01,  4.96batch/s, batch_nb=19, loss=0.136, v_nb=24]\n",
      "Validating:   0%|          | 0/5 [00:00<?, ?batch/s]\u001b[A\n",
      "Epoch 8:  84%|████████▍ | 21/25 [00:04<00:00,  5.70batch/s, batch_nb=19, loss=0.136, v_nb=24]\n",
      "Epoch 8:  88%|████████▊ | 22/25 [00:04<00:00,  5.88batch/s, batch_nb=19, loss=0.136, v_nb=24]\n",
      "Epoch 8:  92%|█████████▏| 23/25 [00:04<00:00,  5.99batch/s, batch_nb=19, loss=0.136, v_nb=24]\n",
      "Epoch 8:  96%|█████████▌| 24/25 [00:04<00:00,  6.02batch/s, batch_nb=19, loss=0.136, v_nb=24]\n",
      "Epoch 8: 100%|██████████| 25/25 [00:04<00:00,  6.82batch/s, batch_nb=19, loss=0.136, v_nb=24]\n",
      "Epoch 9:   0%|          | 0/25 [00:00<00:03,  6.82batch/s, batch_nb=19, loss=0.136, v_nb=24] "
     ]
    },
    {
     "name": "stdout",
     "output_type": "stream",
     "text": [
      "Loss is 0.1537805050611496\n"
     ]
    },
    {
     "name": "stderr",
     "output_type": "stream",
     "text": [
      "Epoch 9:  80%|████████  | 20/25 [00:04<00:01,  4.82batch/s, batch_nb=19, loss=0.129, v_nb=24]\n",
      "Validating:   0%|          | 0/5 [00:00<?, ?batch/s]\u001b[A\n",
      "Epoch 9:  84%|████████▍ | 21/25 [00:04<00:00,  5.45batch/s, batch_nb=19, loss=0.129, v_nb=24]\n",
      "Epoch 9:  88%|████████▊ | 22/25 [00:04<00:00,  5.85batch/s, batch_nb=19, loss=0.129, v_nb=24]\n",
      "Epoch 9:  92%|█████████▏| 23/25 [00:04<00:00,  5.88batch/s, batch_nb=19, loss=0.129, v_nb=24]\n",
      "Epoch 9: 100%|██████████| 25/25 [00:04<00:00,  6.39batch/s, batch_nb=19, loss=0.129, v_nb=24]\n",
      "Epoch 10:   0%|          | 0/25 [00:00<00:03,  6.39batch/s, batch_nb=19, loss=0.129, v_nb=24]"
     ]
    },
    {
     "name": "stdout",
     "output_type": "stream",
     "text": [
      "Loss is 0.15229171514511108\n"
     ]
    },
    {
     "name": "stderr",
     "output_type": "stream",
     "text": [
      "Epoch 10:  80%|████████  | 20/25 [00:04<00:01,  4.45batch/s, batch_nb=19, loss=0.123, v_nb=24]\n",
      "Validating:   0%|          | 0/5 [00:00<?, ?batch/s]\u001b[A\n",
      "Epoch 10:  84%|████████▍ | 21/25 [00:04<00:00,  5.36batch/s, batch_nb=19, loss=0.123, v_nb=24]\n",
      "Epoch 10:  88%|████████▊ | 22/25 [00:04<00:00,  5.92batch/s, batch_nb=19, loss=0.123, v_nb=24]\n",
      "Epoch 10:  92%|█████████▏| 23/25 [00:04<00:00,  6.00batch/s, batch_nb=19, loss=0.123, v_nb=24]\n",
      "Epoch 10:  96%|█████████▌| 24/25 [00:04<00:00,  6.37batch/s, batch_nb=19, loss=0.123, v_nb=24]\n",
      "Epoch 10: 100%|██████████| 25/25 [00:04<00:00,  7.07batch/s, batch_nb=19, loss=0.123, v_nb=24]\n",
      "Epoch 11:   0%|          | 0/25 [00:00<00:03,  7.07batch/s, batch_nb=19, loss=0.123, v_nb=24] "
     ]
    },
    {
     "name": "stdout",
     "output_type": "stream",
     "text": [
      "Loss is 0.1506134569644928\n"
     ]
    },
    {
     "name": "stderr",
     "output_type": "stream",
     "text": [
      "Epoch 11:  80%|████████  | 20/25 [00:04<00:01,  4.56batch/s, batch_nb=19, loss=0.118, v_nb=24]\n",
      "Validating:   0%|          | 0/5 [00:00<?, ?batch/s]\u001b[A\n",
      "Epoch 11:  84%|████████▍ | 21/25 [00:04<00:00,  5.36batch/s, batch_nb=19, loss=0.118, v_nb=24]\n",
      "Epoch 11:  88%|████████▊ | 22/25 [00:04<00:00,  5.65batch/s, batch_nb=19, loss=0.118, v_nb=24]\n",
      "Epoch 11:  92%|█████████▏| 23/25 [00:04<00:00,  5.87batch/s, batch_nb=19, loss=0.118, v_nb=24]\n",
      "Epoch 11: 100%|██████████| 25/25 [00:04<00:00,  6.37batch/s, batch_nb=19, loss=0.118, v_nb=24]\n",
      "Epoch 12:   0%|          | 0/25 [00:00<00:03,  6.37batch/s, batch_nb=19, loss=0.118, v_nb=24] "
     ]
    },
    {
     "name": "stdout",
     "output_type": "stream",
     "text": [
      "Loss is 0.15026356279850006\n"
     ]
    },
    {
     "name": "stderr",
     "output_type": "stream",
     "text": [
      "Epoch 12:  80%|████████  | 20/25 [00:04<00:01,  4.61batch/s, batch_nb=19, loss=0.114, v_nb=24]\n",
      "Validating:   0%|          | 0/5 [00:00<?, ?batch/s]\u001b[A\n",
      "Epoch 12:  84%|████████▍ | 21/25 [00:04<00:00,  5.44batch/s, batch_nb=19, loss=0.114, v_nb=24]\n",
      "Epoch 12:  88%|████████▊ | 22/25 [00:04<00:00,  6.10batch/s, batch_nb=19, loss=0.114, v_nb=24]\n",
      "Epoch 12:  92%|█████████▏| 23/25 [00:04<00:00,  6.19batch/s, batch_nb=19, loss=0.114, v_nb=24]\n",
      "Epoch 12: 100%|██████████| 25/25 [00:04<00:00,  6.71batch/s, batch_nb=19, loss=0.114, v_nb=24]\n",
      "Epoch 13:   0%|          | 0/25 [00:00<00:03,  6.71batch/s, batch_nb=19, loss=0.114, v_nb=24] "
     ]
    },
    {
     "name": "stdout",
     "output_type": "stream",
     "text": [
      "Loss is 0.1508251428604126\n"
     ]
    },
    {
     "name": "stderr",
     "output_type": "stream",
     "text": [
      "Epoch 13:  80%|████████  | 20/25 [00:04<00:01,  4.41batch/s, batch_nb=19, loss=0.110, v_nb=24]\n",
      "Validating:   0%|          | 0/5 [00:00<?, ?batch/s]\u001b[A\n",
      "Epoch 13:  84%|████████▍ | 21/25 [00:04<00:00,  5.27batch/s, batch_nb=19, loss=0.110, v_nb=24]\n",
      "Epoch 13:  88%|████████▊ | 22/25 [00:04<00:00,  5.89batch/s, batch_nb=19, loss=0.110, v_nb=24]\n",
      "Epoch 13:  92%|█████████▏| 23/25 [00:04<00:00,  5.93batch/s, batch_nb=19, loss=0.110, v_nb=24]\n",
      "Epoch 13: 100%|██████████| 25/25 [00:04<00:00,  5.97batch/s, batch_nb=19, loss=0.110, v_nb=24]\n",
      "Epoch 14:   0%|          | 0/25 [00:00<00:04,  5.97batch/s, batch_nb=19, loss=0.110, v_nb=24] "
     ]
    },
    {
     "name": "stdout",
     "output_type": "stream",
     "text": [
      "Loss is 0.1509326994419098\n"
     ]
    },
    {
     "name": "stderr",
     "output_type": "stream",
     "text": [
      "Epoch 14:  80%|████████  | 20/25 [00:04<00:01,  4.60batch/s, batch_nb=19, loss=0.107, v_nb=24]\n",
      "Validating:   0%|          | 0/5 [00:00<?, ?batch/s]\u001b[A\n",
      "Epoch 14:  84%|████████▍ | 21/25 [00:04<00:00,  5.38batch/s, batch_nb=19, loss=0.107, v_nb=24]\n",
      "Epoch 14:  88%|████████▊ | 22/25 [00:04<00:00,  6.08batch/s, batch_nb=19, loss=0.107, v_nb=24]\n",
      "Epoch 14:  92%|█████████▏| 23/25 [00:04<00:00,  6.21batch/s, batch_nb=19, loss=0.107, v_nb=24]\n",
      "Epoch 14: 100%|██████████| 25/25 [00:04<00:00,  6.70batch/s, batch_nb=19, loss=0.107, v_nb=24]\n",
      "Epoch 15:   0%|          | 0/25 [00:00<00:03,  6.70batch/s, batch_nb=19, loss=0.107, v_nb=24] "
     ]
    },
    {
     "name": "stdout",
     "output_type": "stream",
     "text": [
      "Loss is 0.15037532150745392\n"
     ]
    },
    {
     "name": "stderr",
     "output_type": "stream",
     "text": [
      "Epoch 15:  80%|████████  | 20/25 [00:04<00:01,  4.55batch/s, batch_nb=19, loss=0.104, v_nb=24]\n",
      "Validating:   0%|          | 0/5 [00:00<?, ?batch/s]\u001b[A\n",
      "Epoch 15:  84%|████████▍ | 21/25 [00:04<00:00,  5.49batch/s, batch_nb=19, loss=0.104, v_nb=24]\n",
      "Epoch 15:  88%|████████▊ | 22/25 [00:04<00:00,  5.74batch/s, batch_nb=19, loss=0.104, v_nb=24]\n",
      "Epoch 15:  92%|█████████▏| 23/25 [00:04<00:00,  6.33batch/s, batch_nb=19, loss=0.104, v_nb=24]\n",
      "Epoch 15: 100%|██████████| 25/25 [00:04<00:00,  6.36batch/s, batch_nb=19, loss=0.104, v_nb=24]\n",
      "Epoch 15: 100%|██████████| 25/25 [00:04<00:00,  5.11batch/s, batch_nb=19, loss=0.104, v_nb=24]"
     ]
    },
    {
     "name": "stdout",
     "output_type": "stream",
     "text": [
      "Loss is 0.15040801465511322\n"
     ]
    },
    {
     "name": "stderr",
     "output_type": "stream",
     "text": [
      "\n"
     ]
    }
   ],
   "source": [
    "net = Siamese(data[:20000], data[20000:], batch_size = 1024, dim = 256)\n",
    "net.train_network(num_epochs = 15)"
   ]
  },
  {
   "cell_type": "code",
   "execution_count": 175,
   "metadata": {},
   "outputs": [
    {
     "name": "stdout",
     "output_type": "stream",
     "text": [
      "[[-1.49011612e-07  3.25962901e-09 -6.42612576e-08 ... -9.48784873e-09\n",
      "  -1.86264515e-09 -4.59840521e-09]\n",
      " [ 3.25962901e-09 -5.96046448e-08  4.65661287e-08 ... -2.04890966e-08\n",
      "  -1.07102096e-08 -2.09547579e-08]\n",
      " [-6.42612576e-08  4.65661287e-08  8.94069672e-08 ...  2.60770321e-08\n",
      "  -2.79396772e-09 -1.25728548e-08]\n",
      " ...\n",
      " [-9.48784873e-09 -2.04890966e-08  2.60770321e-08 ... -1.19209290e-07\n",
      "   9.31322575e-10 -2.98023224e-08]\n",
      " [-1.86264515e-09 -1.07102096e-08 -2.79396772e-09 ...  9.31322575e-10\n",
      "   1.49011612e-07  2.79396772e-09]\n",
      " [-4.59840521e-09 -2.09547579e-08 -1.25728548e-08 ... -2.98023224e-08\n",
      "   2.79396772e-09  0.00000000e+00]]\n"
     ]
    }
   ],
   "source": [
    "W = net.l.weight.detach().cpu().numpy()\n",
    "P_Rw = get_rowspace_projection(W)\n",
    "I = np.eye(P_Rw.shape[0])\n",
    "P_Nw = I - P_Rw\n",
    "P_Nw2 = get_nullspace_projection(W)\n",
    "vecs = np.array([d[0] for d in data[20000:]])\n",
    "strings = [d[2] for d in data[20000:]]\n",
    "vecs_transformed = W.dot(vecs.T).T\n",
    "vecs_transformed_nullspace = P_Nw2.dot(vecs.T).T\n",
    "print(P_Nw2-P_Nw)"
   ]
  },
  {
   "cell_type": "code",
   "execution_count": 173,
   "metadata": {},
   "outputs": [
    {
     "name": "stdout",
     "output_type": "stream",
     "text": [
      "(256, 1024) (1024, 256)\n"
     ]
    }
   ],
   "source": [
    "W_r_basis = scipy.linalg.orth(W.T)\n",
    "print(W.shape, W_r_basis.shape)"
   ]
  },
  {
   "cell_type": "code",
   "execution_count": 176,
   "metadata": {},
   "outputs": [],
   "source": [
    "\n",
    "def to_string(np_array):\n",
    "        return \"\\t\".join([\"%0.4f\" % float(x) for x in np_array])\n",
    "    \n",
    "with open(\"vecs.transformed.nullspace.tsv\", \"w\") as f:\n",
    "    for v in vecs_transformed_nullspace:\n",
    "        f.write(to_string(v) + \"\\n\")\n",
    "\n",
    "with open(\"labels.transformed.nullspace.tsv\", \"w\") as f:\n",
    "    for s in strings:\n",
    "        f.write(s + \"\\n\")\n",
    "        \n",
    "with open(\"vecs.transformed.tsv\", \"w\") as f:\n",
    "    for v in vecs_transformed:\n",
    "        f.write(to_string(v) + \"\\n\")\n",
    "\n",
    "with open(\"labels.transformed.tsv\", \"w\") as f:\n",
    "    for s in strings:\n",
    "        f.write(s + \"\\n\")"
   ]
  },
  {
   "cell_type": "code",
   "execution_count": 119,
   "metadata": {},
   "outputs": [
    {
     "name": "stdout",
     "output_type": "stream",
     "text": [
      "1023\n",
      "768\n",
      "256\n"
     ]
    }
   ],
   "source": [
    "np.linalg.matrix_rank(W)\n",
    "print(np.linalg.matrix_rank(vecs))\n",
    "print(np.linalg.matrix_rank(vecs_transformed_nullspace))\n",
    "print(np.linalg.matrix_rank(P_Rw.dot(vecs.T).T))"
   ]
  },
  {
   "cell_type": "code",
   "execution_count": 97,
   "metadata": {},
   "outputs": [
    {
     "data": {
      "text/plain": [
       "(1024, 1024)"
      ]
     },
     "execution_count": 97,
     "metadata": {},
     "output_type": "execute_result"
    }
   ],
   "source": [
    "I.shape"
   ]
  },
  {
   "cell_type": "code",
   "execution_count": 98,
   "metadata": {},
   "outputs": [
    {
     "data": {
      "text/plain": [
       "array([[ 0.2558343 ,  0.00257222, -0.00626908, ...,  0.00080806,\n",
       "        -0.00819083,  0.00097386],\n",
       "       [ 0.00257222,  0.25096208,  0.00496867, ...,  0.01734442,\n",
       "        -0.00780143,  0.00727562],\n",
       "       [-0.00626908,  0.00496867,  0.25201002, ..., -0.01009724,\n",
       "         0.00422214, -0.00510023],\n",
       "       ...,\n",
       "       [ 0.00080806,  0.01734442, -0.01009724, ...,  0.26606488,\n",
       "         0.01120324, -0.02924984],\n",
       "       [-0.00819083, -0.00780143,  0.00422214, ...,  0.01120324,\n",
       "         0.2691891 ,  0.00959322],\n",
       "       [ 0.00097386,  0.00727562, -0.00510023, ..., -0.02924984,\n",
       "         0.00959322,  0.2728414 ]], dtype=float32)"
      ]
     },
     "execution_count": 98,
     "metadata": {},
     "output_type": "execute_result"
    }
   ],
   "source": []
  },
  {
   "cell_type": "code",
   "execution_count": 105,
   "metadata": {},
   "outputs": [
    {
     "data": {
      "text/plain": [
       "array([[-5.96046448e-08,  3.21306288e-08, -3.21306288e-08, ...,\n",
       "         7.39237294e-09, -4.65661287e-09,  4.13274392e-09],\n",
       "       [ 3.21306288e-08, -2.98023224e-08,  3.49245965e-08, ...,\n",
       "        -2.79396772e-08,  0.00000000e+00,  1.25728548e-08],\n",
       "       [-3.21306288e-08,  3.49245965e-08, -5.96046448e-08, ...,\n",
       "         1.21071935e-08,  3.72529030e-09, -5.58793545e-09],\n",
       "       ...,\n",
       "       [ 7.39237294e-09, -2.79396772e-08,  1.21071935e-08, ...,\n",
       "        -2.98023224e-08,  2.79396772e-09, -2.23517418e-08],\n",
       "       [-4.65661287e-09,  0.00000000e+00,  3.72529030e-09, ...,\n",
       "         2.79396772e-09,  0.00000000e+00,  9.31322575e-10],\n",
       "       [ 4.13274392e-09,  1.25728548e-08, -5.58793545e-09, ...,\n",
       "        -2.23517418e-08,  9.31322575e-10,  1.19209290e-07]], dtype=float32)"
      ]
     },
     "execution_count": 105,
     "metadata": {},
     "output_type": "execute_result"
    }
   ],
   "source": [
    "P_Rw.dot(P_Rw) - P_Rw\n",
    "P_Nw.dot(P_Nw) - P_Nw"
   ]
  },
  {
   "cell_type": "code",
   "execution_count": 162,
   "metadata": {},
   "outputs": [],
   "source": [
    "w = np.random.rand(10,100) - 0.5\n",
    "p1 = get_nullspace_projection(w)\n",
    "p2 = np.eye(100) - get_rowspace_projection(w)"
   ]
  },
  {
   "cell_type": "code",
   "execution_count": 163,
   "metadata": {},
   "outputs": [
    {
     "data": {
      "text/plain": [
       "((100, 100), (100, 100))"
      ]
     },
     "execution_count": 163,
     "metadata": {},
     "output_type": "execute_result"
    }
   ],
   "source": [
    "p1.shape, p2.shape"
   ]
  },
  {
   "cell_type": "code",
   "execution_count": 164,
   "metadata": {},
   "outputs": [
    {
     "data": {
      "text/plain": [
       "array([[ 0.82945399,  0.0125107 , -0.0786709 , ..., -0.05030625,\n",
       "         0.02868598,  0.01301795],\n",
       "       [ 0.0125107 ,  0.89848579,  0.01230274, ...,  0.00552447,\n",
       "        -0.01376449,  0.02839011],\n",
       "       [-0.0786709 ,  0.01230274,  0.94018492, ..., -0.02453937,\n",
       "        -0.0141308 ,  0.02401205],\n",
       "       ...,\n",
       "       [-0.05030625,  0.00552447, -0.02453937, ...,  0.87408413,\n",
       "        -0.00841796, -0.00286106],\n",
       "       [ 0.02868598, -0.01376449, -0.0141308 , ..., -0.00841796,\n",
       "         0.86127804, -0.00816   ],\n",
       "       [ 0.01301795,  0.02839011,  0.02401205, ..., -0.00286106,\n",
       "        -0.00816   ,  0.94351214]])"
      ]
     },
     "execution_count": 164,
     "metadata": {},
     "output_type": "execute_result"
    }
   ],
   "source": [
    "p1"
   ]
  },
  {
   "cell_type": "code",
   "execution_count": 165,
   "metadata": {},
   "outputs": [
    {
     "data": {
      "text/plain": [
       "array([[ 0.82945399,  0.0125107 , -0.0786709 , ..., -0.05030625,\n",
       "         0.02868598,  0.01301795],\n",
       "       [ 0.0125107 ,  0.89848579,  0.01230274, ...,  0.00552447,\n",
       "        -0.01376449,  0.02839011],\n",
       "       [-0.0786709 ,  0.01230274,  0.94018492, ..., -0.02453937,\n",
       "        -0.0141308 ,  0.02401205],\n",
       "       ...,\n",
       "       [-0.05030625,  0.00552447, -0.02453937, ...,  0.87408413,\n",
       "        -0.00841796, -0.00286106],\n",
       "       [ 0.02868598, -0.01376449, -0.0141308 , ..., -0.00841796,\n",
       "         0.86127804, -0.00816   ],\n",
       "       [ 0.01301795,  0.02839011,  0.02401205, ..., -0.00286106,\n",
       "        -0.00816   ,  0.94351214]])"
      ]
     },
     "execution_count": 165,
     "metadata": {},
     "output_type": "execute_result"
    }
   ],
   "source": [
    "p2"
   ]
  },
  {
   "cell_type": "code",
   "execution_count": 168,
   "metadata": {},
   "outputs": [],
   "source": [
    "p1 = get_nullspace_projection(W)\n",
    "p2 = np.eye(1024) - get_rowspace_projection(W)"
   ]
  },
  {
   "cell_type": "code",
   "execution_count": 170,
   "metadata": {},
   "outputs": [
    {
     "data": {
      "text/plain": [
       "array([[ 0.74416554, -0.00257222,  0.00626902, ..., -0.00080807,\n",
       "         0.00819083, -0.00097387],\n",
       "       [-0.00257222,  0.74903786, -0.00496862, ..., -0.01734444,\n",
       "         0.00780141, -0.00727564],\n",
       "       [ 0.00626902, -0.00496862,  0.7479901 , ...,  0.01009727,\n",
       "        -0.00422214,  0.00510022],\n",
       "       ...,\n",
       "       [-0.00080807, -0.01734444,  0.01009727, ...,  0.733935  ,\n",
       "        -0.01120324,  0.02924981],\n",
       "       [ 0.00819083,  0.00780141, -0.00422214, ..., -0.01120324,\n",
       "         0.73081106, -0.00959321],\n",
       "       [-0.00097387, -0.00727564,  0.00510022, ...,  0.02924981,\n",
       "        -0.00959321,  0.7271586 ]], dtype=float32)"
      ]
     },
     "execution_count": 170,
     "metadata": {},
     "output_type": "execute_result"
    }
   ],
   "source": [
    "p1"
   ]
  },
  {
   "cell_type": "code",
   "execution_count": 171,
   "metadata": {},
   "outputs": [
    {
     "data": {
      "text/plain": [
       "array([[ 0.74416569, -0.00257222,  0.00626908, ..., -0.00080806,\n",
       "         0.00819083, -0.00097386],\n",
       "       [-0.00257222,  0.74903792, -0.00496867, ..., -0.01734442,\n",
       "         0.00780143, -0.00727562],\n",
       "       [ 0.00626908, -0.00496867,  0.74798998, ...,  0.01009724,\n",
       "        -0.00422214,  0.00510023],\n",
       "       ...,\n",
       "       [-0.00080806, -0.01734442,  0.01009724, ...,  0.73393512,\n",
       "        -0.01120324,  0.02924984],\n",
       "       [ 0.00819083,  0.00780143, -0.00422214, ..., -0.01120324,\n",
       "         0.73081091, -0.00959322],\n",
       "       [-0.00097386, -0.00727562,  0.00510023, ...,  0.02924984,\n",
       "        -0.00959322,  0.72715861]])"
      ]
     },
     "execution_count": 171,
     "metadata": {},
     "output_type": "execute_result"
    }
   ],
   "source": [
    "p2"
   ]
  },
  {
   "cell_type": "code",
   "execution_count": null,
   "metadata": {},
   "outputs": [],
   "source": []
  }
 ],
 "metadata": {
  "kernelspec": {
   "display_name": "Python 3",
   "language": "python",
   "name": "python3"
  },
  "language_info": {
   "codemirror_mode": {
    "name": "ipython",
    "version": 3
   },
   "file_extension": ".py",
   "mimetype": "text/x-python",
   "name": "python",
   "nbconvert_exporter": "python",
   "pygments_lexer": "ipython3",
   "version": "3.7.5"
  }
 },
 "nbformat": 4,
 "nbformat_minor": 2
}
