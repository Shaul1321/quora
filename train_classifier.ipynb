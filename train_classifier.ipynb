{
 "cells": [
  {
   "cell_type": "code",
   "execution_count": 4,
   "metadata": {},
   "outputs": [],
   "source": [
    "import pickle\n",
    "import numpy as np\n",
    "import torch\n",
    "import pytorch_lightning as pl\n",
    "from pytorch_lightning import Trainer\n",
    "import loss\n",
    "%load_ext autoreload\n",
    "%autoreload 2"
   ]
  },
  {
   "cell_type": "code",
   "execution_count": 5,
   "metadata": {},
   "outputs": [],
   "source": [
    "with open(\"data.sample.25k.pickle\", \"rb\") as f:\n",
    "    data = pickle.load(f)"
   ]
  },
  {
   "cell_type": "code",
   "execution_count": 6,
   "metadata": {},
   "outputs": [],
   "source": [
    "class Dataset(torch.utils.data.Dataset):\n",
    "    \n",
    "    \"\"\"Simple torch dataset class\"\"\"\n",
    "    def __init__(self, data):\n",
    "\n",
    "        self.data = data\n",
    "\n",
    "    def __len__(self):\n",
    "\n",
    "        return len(self.data)\n",
    "\n",
    "    def __getitem__(self, index):\n",
    "\n",
    "        with torch.no_grad():\n",
    "             \n",
    "            vec1_np, vec2_np, str1, str2, _ = self.data[index]\n",
    "            \n",
    "            vec1, vec2, str1, str2, pair_id = self.data[index]            \n",
    "            vec1, vec2 = torch.from_numpy(vec1_np).float(), torch.from_numpy(vec2_np).float()\n",
    "            return (vec1, vec2, str1, str2, pair_id)"
   ]
  },
  {
   "cell_type": "code",
   "execution_count": 25,
   "metadata": {},
   "outputs": [],
   "source": [
    "class Siamese(pl.LightningModule):\n",
    "\n",
    "    def __init__(self, X_train, X_dev, dim = 50, batch_size = 1000):\n",
    "        super(Siamese, self).__init__()\n",
    "        self.l = torch.nn.Linear(768,50)\n",
    "        \n",
    "        self.train_data = Dataset(X_train)\n",
    "        self.dev_data = Dataset(X_dev)\n",
    "        self.train_gen = torch.utils.data.DataLoader(self.train_data, batch_size = batch_size, drop_last = False, shuffle=True)\n",
    "        self.dev_gen = torch.utils.data.DataLoader(self.dev_data, batch_size = batch_size, drop_last = False, shuffle=True)\n",
    "        self.loss_fn = loss.BatchHardTripletLoss(final = \"plus\")\n",
    "        \n",
    "        self.acc = None\n",
    "        self.optimizer = torch.optim.Adam(self.parameters(), weight_decay = 1e-6)\n",
    "        \n",
    "    def forward(self, x1, x2):\n",
    "\n",
    "          h1 = self.l(x1)\n",
    "          h2 = self.l(x2)\n",
    "         \n",
    "          return h1, h2\n",
    " \n",
    "    def train_network(self, num_epochs):\n",
    "    \n",
    "      trainer = Trainer(max_nb_epochs = num_epochs, min_nb_epochs = num_epochs, show_progress_bar = True)\n",
    "      trainer.fit(self)\n",
    "\n",
    "      return self.acc   \n",
    "      \n",
    "    def get_weights(self):\n",
    "    \n",
    "        return self.l.weight.data.numpy()\n",
    "    \n",
    "    def training_step(self, batch, batch_nb):\n",
    "        # REQUIRED\n",
    "        x1, x2, str1, str2, ids = batch\n",
    "        h1, h2 = self.forward(x1, x2)\n",
    "        loss_val =  self.loss_fn(h1, h2, str1, str2, ids, index=0, evaluation = False)\n",
    "        \n",
    "        return {'loss': loss_val[0]}\n",
    "        \n",
    "\n",
    "    def validation_step(self, batch, batch_nb):\n",
    "    \n",
    "        # OPTIONAL\n",
    "        x1, x2, str1, str2, ids = batch\n",
    "        h1, h2 = self.forward(x1, x2)\n",
    "        loss_val =  self.loss_fn(h1, h2, str1, str2, ids, index=batch_nb, evaluation = True)\n",
    "        return {'val_loss': loss_val[0]}\n",
    "\n",
    "    def validation_end(self, outputs):\n",
    "        # OPTIONAL    \n",
    "        avg_loss = torch.stack([x['val_loss'] for x in outputs]).mean()\n",
    "        print(\"Loss is {}\".format(avg_loss))\n",
    "        return {'avg_val_loss': avg_loss}\n",
    "\n",
    "    def configure_optimizers(self):\n",
    "        # REQUIRED\n",
    "        return torch.optim.Adam(self.parameters(), weight_decay = 1e-4)\n",
    "\n",
    "    @pl.data_loader\n",
    "    def train_dataloader(self):\n",
    "        return self.train_gen\n",
    "\n",
    "    @pl.data_loader\n",
    "    def val_dataloader(self):\n",
    "        # OPTIONAL\n",
    "        # can also return a list of val dataloaders\n",
    "        return self.dev_gen"
   ]
  },
  {
   "cell_type": "code",
   "execution_count": null,
   "metadata": {},
   "outputs": [
    {
     "name": "stderr",
     "output_type": "stream",
     "text": [
      "INFO:root:      Name                  Type Params\n",
      "0        l                Linear   38 K\n",
      "1  loss_fn  BatchHardTripletLoss    0  \n",
      "Epoch 1:   8%|▊         | 4/50 [00:00<00:02, 21.85batch/s, batch_nb=3, loss=0.187, v_nb=18]"
     ]
    },
    {
     "name": "stdout",
     "output_type": "stream",
     "text": [
      "Loss is 0.24401716887950897\n"
     ]
    },
    {
     "name": "stderr",
     "output_type": "stream",
     "text": [
      "Epoch 1:  80%|████████  | 40/50 [00:01<00:00, 23.08batch/s, batch_nb=39, loss=0.134, v_nb=18]\n",
      "Validating:   0%|          | 0/10 [00:00<?, ?batch/s]\u001b[A\n",
      "Epoch 1:  88%|████████▊ | 44/50 [00:01<00:00, 26.84batch/s, batch_nb=39, loss=0.134, v_nb=18]\n",
      "Epoch 1: 100%|██████████| 50/50 [00:01<00:00, 28.50batch/s, batch_nb=39, loss=0.134, v_nb=18]\n",
      "Epoch 2:   8%|▊         | 4/50 [00:00<00:01, 26.37batch/s, batch_nb=3, loss=0.133, v_nb=18]  "
     ]
    },
    {
     "name": "stdout",
     "output_type": "stream",
     "text": [
      "Loss is 0.12430765479803085\n"
     ]
    },
    {
     "name": "stderr",
     "output_type": "stream",
     "text": [
      "Epoch 2:  80%|████████  | 40/50 [00:01<00:00, 23.79batch/s, batch_nb=39, loss=0.129, v_nb=18]\n",
      "Epoch 2:  82%|████████▏ | 41/50 [00:01<00:00, 25.70batch/s, batch_nb=39, loss=0.129, v_nb=18]\n",
      "Epoch 2:  90%|█████████ | 45/50 [00:01<00:00, 28.04batch/s, batch_nb=39, loss=0.129, v_nb=18]\n",
      "Epoch 2: 100%|██████████| 50/50 [00:02<00:00, 26.23batch/s, batch_nb=39, loss=0.129, v_nb=18]\n",
      "Epoch 3:   8%|▊         | 4/50 [00:00<00:01, 24.95batch/s, batch_nb=3, loss=0.129, v_nb=18]  "
     ]
    },
    {
     "name": "stdout",
     "output_type": "stream",
     "text": [
      "Loss is 0.131826251745224\n"
     ]
    },
    {
     "name": "stderr",
     "output_type": "stream",
     "text": [
      "Epoch 3:  80%|████████  | 40/50 [00:01<00:00, 23.60batch/s, batch_nb=39, loss=0.122, v_nb=18]\n",
      "Validating:   0%|          | 0/10 [00:00<?, ?batch/s]\u001b[A\n",
      "Epoch 3:  88%|████████▊ | 44/50 [00:01<00:00, 27.19batch/s, batch_nb=39, loss=0.122, v_nb=18]\n",
      "Epoch 3: 100%|██████████| 50/50 [00:01<00:00, 29.39batch/s, batch_nb=39, loss=0.122, v_nb=18]\n",
      "Epoch 4:   8%|▊         | 4/50 [00:00<00:01, 27.26batch/s, batch_nb=3, loss=0.122, v_nb=18]  "
     ]
    },
    {
     "name": "stdout",
     "output_type": "stream",
     "text": [
      "Loss is 0.13140743970870972\n"
     ]
    },
    {
     "name": "stderr",
     "output_type": "stream",
     "text": [
      "Epoch 4:  80%|████████  | 40/50 [00:01<00:00, 23.62batch/s, batch_nb=39, loss=0.124, v_nb=18]\n",
      "Epoch 4:  82%|████████▏ | 41/50 [00:01<00:00, 25.91batch/s, batch_nb=39, loss=0.124, v_nb=18]\n",
      "Epoch 4:  90%|█████████ | 45/50 [00:01<00:00, 27.68batch/s, batch_nb=39, loss=0.124, v_nb=18]\n",
      "Epoch 4: 100%|██████████| 50/50 [00:02<00:00, 29.36batch/s, batch_nb=39, loss=0.124, v_nb=18]\n",
      "Epoch 5:   8%|▊         | 4/50 [00:00<00:01, 27.04batch/s, batch_nb=3, loss=0.123, v_nb=18]  "
     ]
    },
    {
     "name": "stdout",
     "output_type": "stream",
     "text": [
      "Loss is 0.13914605975151062\n"
     ]
    },
    {
     "name": "stderr",
     "output_type": "stream",
     "text": [
      "Epoch 5:  80%|████████  | 40/50 [00:01<00:00, 23.84batch/s, batch_nb=39, loss=nan, v_nb=18]  \n",
      "Epoch 5:  82%|████████▏ | 41/50 [00:01<00:00, 25.82batch/s, batch_nb=39, loss=nan, v_nb=18]\n",
      "Epoch 5:  90%|█████████ | 45/50 [00:01<00:00, 28.14batch/s, batch_nb=39, loss=nan, v_nb=18]\n",
      "Epoch 5: 100%|██████████| 50/50 [00:01<00:00, 29.32batch/s, batch_nb=39, loss=nan, v_nb=18]\n",
      "Epoch 6:   8%|▊         | 4/50 [00:00<00:01, 26.72batch/s, batch_nb=3, loss=nan, v_nb=18]  "
     ]
    },
    {
     "name": "stdout",
     "output_type": "stream",
     "text": [
      "Loss is 0.14051486551761627\n"
     ]
    },
    {
     "name": "stderr",
     "output_type": "stream",
     "text": [
      "Epoch 6:  80%|████████  | 40/50 [00:01<00:00, 21.20batch/s, batch_nb=39, loss=nan, v_nb=18]\n",
      "Epoch 6:  82%|████████▏ | 41/50 [00:01<00:00, 23.14batch/s, batch_nb=39, loss=nan, v_nb=18]\n",
      "Epoch 6:  90%|█████████ | 45/50 [00:01<00:00, 25.19batch/s, batch_nb=39, loss=nan, v_nb=18]\n",
      "Epoch 6: 100%|██████████| 50/50 [00:02<00:00, 26.93batch/s, batch_nb=39, loss=nan, v_nb=18]\n",
      "Epoch 7:   6%|▌         | 3/50 [00:00<00:01, 24.27batch/s, batch_nb=2, loss=nan, v_nb=18]  "
     ]
    },
    {
     "name": "stdout",
     "output_type": "stream",
     "text": [
      "Loss is 0.14123612642288208\n"
     ]
    },
    {
     "name": "stderr",
     "output_type": "stream",
     "text": [
      "Epoch 7:  80%|████████  | 40/50 [00:01<00:00, 22.22batch/s, batch_nb=39, loss=nan, v_nb=18]\n",
      "Epoch 7:  86%|████████▌ | 43/50 [00:01<00:00, 25.55batch/s, batch_nb=39, loss=nan, v_nb=18]\n",
      "Epoch 7:  94%|█████████▍| 47/50 [00:01<00:00, 27.36batch/s, batch_nb=39, loss=nan, v_nb=18]\n",
      "Epoch 7: 100%|██████████| 50/50 [00:02<00:00, 27.36batch/s, batch_nb=39, loss=nan, v_nb=18]\n",
      "Epoch 8:   8%|▊         | 4/50 [00:00<00:01, 24.95batch/s, batch_nb=3, loss=nan, v_nb=18]  "
     ]
    },
    {
     "name": "stdout",
     "output_type": "stream",
     "text": [
      "Loss is 0.15308482944965363\n"
     ]
    },
    {
     "name": "stderr",
     "output_type": "stream",
     "text": [
      "Epoch 8:  80%|████████  | 40/50 [00:01<00:00, 24.15batch/s, batch_nb=39, loss=0.132, v_nb=18]\n",
      "Validating:   0%|          | 0/10 [00:00<?, ?batch/s]\u001b[A\n",
      "Epoch 8:  88%|████████▊ | 44/50 [00:01<00:00, 27.62batch/s, batch_nb=39, loss=0.132, v_nb=18]\n",
      "Epoch 8: 100%|██████████| 50/50 [00:01<00:00, 28.95batch/s, batch_nb=39, loss=0.132, v_nb=18]\n",
      "Epoch 9:   8%|▊         | 4/50 [00:00<00:01, 26.61batch/s, batch_nb=3, loss=0.133, v_nb=18]  "
     ]
    },
    {
     "name": "stdout",
     "output_type": "stream",
     "text": [
      "Loss is 0.15910524129867554\n"
     ]
    },
    {
     "name": "stderr",
     "output_type": "stream",
     "text": [
      "Epoch 9:  80%|████████  | 40/50 [00:01<00:00, 23.84batch/s, batch_nb=39, loss=0.133, v_nb=18]\n",
      "Epoch 9:  82%|████████▏ | 41/50 [00:01<00:00, 26.04batch/s, batch_nb=39, loss=0.133, v_nb=18]\n",
      "Epoch 9:  90%|█████████ | 45/50 [00:01<00:00, 28.09batch/s, batch_nb=39, loss=0.133, v_nb=18]\n",
      "Epoch 9: 100%|██████████| 50/50 [00:01<00:00, 29.79batch/s, batch_nb=39, loss=0.133, v_nb=18]\n",
      "Epoch 10:   8%|▊         | 4/50 [00:00<00:01, 27.43batch/s, batch_nb=3, loss=0.134, v_nb=18] "
     ]
    },
    {
     "name": "stdout",
     "output_type": "stream",
     "text": [
      "Loss is 0.162845641374588\n"
     ]
    },
    {
     "name": "stderr",
     "output_type": "stream",
     "text": [
      "Epoch 10:  80%|████████  | 40/50 [00:01<00:00, 24.25batch/s, batch_nb=39, loss=0.145, v_nb=18]\n",
      "Epoch 10:  82%|████████▏ | 41/50 [00:01<00:00, 26.50batch/s, batch_nb=39, loss=0.145, v_nb=18]\n",
      "Epoch 10:  90%|█████████ | 45/50 [00:01<00:00, 28.53batch/s, batch_nb=39, loss=0.145, v_nb=18]\n",
      "Epoch 10: 100%|██████████| 50/50 [00:01<00:00, 30.08batch/s, batch_nb=39, loss=0.145, v_nb=18]\n",
      "Epoch 11:   6%|▌         | 3/50 [00:00<00:01, 30.08batch/s, batch_nb=2, loss=0.145, v_nb=18]  "
     ]
    },
    {
     "name": "stdout",
     "output_type": "stream",
     "text": [
      "Loss is 0.1739034652709961\n"
     ]
    },
    {
     "name": "stderr",
     "output_type": "stream",
     "text": [
      "Epoch 11:  80%|████████  | 40/50 [00:01<00:00, 24.25batch/s, batch_nb=39, loss=0.149, v_nb=18]\n",
      "Epoch 11:  82%|████████▏ | 41/50 [00:01<00:00, 26.46batch/s, batch_nb=39, loss=0.149, v_nb=18]\n",
      "Epoch 11:  90%|█████████ | 45/50 [00:01<00:00, 28.51batch/s, batch_nb=39, loss=0.149, v_nb=18]\n",
      "Epoch 11: 100%|██████████| 50/50 [00:01<00:00, 30.19batch/s, batch_nb=39, loss=0.149, v_nb=18]\n",
      "Epoch 12:   8%|▊         | 4/50 [00:00<00:01, 27.86batch/s, batch_nb=3, loss=0.149, v_nb=18]  "
     ]
    },
    {
     "name": "stdout",
     "output_type": "stream",
     "text": [
      "Loss is 0.17522600293159485\n"
     ]
    },
    {
     "name": "stderr",
     "output_type": "stream",
     "text": [
      "Epoch 12:  80%|████████  | 40/50 [00:01<00:00, 23.78batch/s, batch_nb=39, loss=nan, v_nb=18]  \n",
      "Epoch 12:  82%|████████▏ | 41/50 [00:01<00:00, 26.27batch/s, batch_nb=39, loss=nan, v_nb=18]\n",
      "Epoch 12:  90%|█████████ | 45/50 [00:01<00:00, 28.17batch/s, batch_nb=39, loss=nan, v_nb=18]\n",
      "Epoch 12: 100%|██████████| 50/50 [00:01<00:00, 29.94batch/s, batch_nb=39, loss=nan, v_nb=18]\n",
      "Epoch 13:   8%|▊         | 4/50 [00:00<00:01, 27.23batch/s, batch_nb=3, loss=nan, v_nb=18]  "
     ]
    },
    {
     "name": "stdout",
     "output_type": "stream",
     "text": [
      "Loss is 0.17962482571601868\n"
     ]
    },
    {
     "name": "stderr",
     "output_type": "stream",
     "text": [
      "Epoch 13:  80%|████████  | 40/50 [00:01<00:00, 24.14batch/s, batch_nb=39, loss=nan, v_nb=18]\n",
      "Epoch 13:  82%|████████▏ | 41/50 [00:01<00:00, 26.24batch/s, batch_nb=39, loss=nan, v_nb=18]\n",
      "Epoch 13:  88%|████████▊ | 44/50 [00:01<00:00, 25.28batch/s, batch_nb=39, loss=nan, v_nb=18]\n",
      "Epoch 13: 100%|██████████| 50/50 [00:01<00:00, 27.55batch/s, batch_nb=39, loss=nan, v_nb=18]\n",
      "Epoch 14:   8%|▊         | 4/50 [00:00<00:01, 25.91batch/s, batch_nb=3, loss=nan, v_nb=18]  "
     ]
    },
    {
     "name": "stdout",
     "output_type": "stream",
     "text": [
      "Loss is 0.16810403764247894\n"
     ]
    },
    {
     "name": "stderr",
     "output_type": "stream",
     "text": [
      "Epoch 14:  80%|████████  | 40/50 [00:01<00:00, 23.87batch/s, batch_nb=39, loss=nan, v_nb=18]\n",
      "Validating:   0%|          | 0/10 [00:00<?, ?batch/s]\u001b[A\n",
      "Epoch 14:  88%|████████▊ | 44/50 [00:01<00:00, 27.11batch/s, batch_nb=39, loss=nan, v_nb=18]\n",
      "Epoch 14: 100%|██████████| 50/50 [00:01<00:00, 28.76batch/s, batch_nb=39, loss=nan, v_nb=18]\n",
      "Epoch 15:   8%|▊         | 4/50 [00:00<00:01, 26.02batch/s, batch_nb=3, loss=nan, v_nb=18]  "
     ]
    },
    {
     "name": "stdout",
     "output_type": "stream",
     "text": [
      "Loss is 0.1632746458053589\n"
     ]
    },
    {
     "name": "stderr",
     "output_type": "stream",
     "text": [
      "Epoch 15:  80%|████████  | 40/50 [00:01<00:00, 23.18batch/s, batch_nb=39, loss=nan, v_nb=18]\n",
      "Validating:   0%|          | 0/10 [00:00<?, ?batch/s]\u001b[A\n",
      "Epoch 15:  88%|████████▊ | 44/50 [00:01<00:00, 25.17batch/s, batch_nb=39, loss=nan, v_nb=18]\n",
      "Epoch 15: 100%|██████████| 50/50 [00:02<00:00, 26.53batch/s, batch_nb=39, loss=nan, v_nb=18]\n",
      "Epoch 16:   6%|▌         | 3/50 [00:00<00:01, 24.29batch/s, batch_nb=2, loss=nan, v_nb=18]  "
     ]
    },
    {
     "name": "stdout",
     "output_type": "stream",
     "text": [
      "Loss is 0.16385620832443237\n"
     ]
    },
    {
     "name": "stderr",
     "output_type": "stream",
     "text": [
      "Epoch 16:  80%|████████  | 40/50 [00:01<00:00, 20.54batch/s, batch_nb=39, loss=nan, v_nb=18]\n",
      "Epoch 16:  86%|████████▌ | 43/50 [00:01<00:00, 23.78batch/s, batch_nb=39, loss=nan, v_nb=18]\n",
      "Epoch 16:  94%|█████████▍| 47/50 [00:02<00:00, 25.89batch/s, batch_nb=39, loss=nan, v_nb=18]\n",
      "Epoch 16: 100%|██████████| 50/50 [00:02<00:00, 25.89batch/s, batch_nb=39, loss=nan, v_nb=18]\n",
      "Epoch 17:   6%|▌         | 3/50 [00:00<00:01, 23.62batch/s, batch_nb=2, loss=nan, v_nb=18]  "
     ]
    },
    {
     "name": "stdout",
     "output_type": "stream",
     "text": [
      "Loss is 0.18349161744117737\n"
     ]
    },
    {
     "name": "stderr",
     "output_type": "stream",
     "text": [
      "Epoch 17:  80%|████████  | 40/50 [00:01<00:00, 21.26batch/s, batch_nb=39, loss=nan, v_nb=18]\n",
      "Validating:   0%|          | 0/10 [00:00<?, ?batch/s]\u001b[A\n",
      "Epoch 17:  88%|████████▊ | 44/50 [00:01<00:00, 24.84batch/s, batch_nb=39, loss=nan, v_nb=18]\n",
      "Epoch 17: 100%|██████████| 50/50 [00:02<00:00, 27.14batch/s, batch_nb=39, loss=nan, v_nb=18]\n",
      "Epoch 18:   8%|▊         | 4/50 [00:00<00:01, 25.36batch/s, batch_nb=3, loss=nan, v_nb=18]  "
     ]
    },
    {
     "name": "stdout",
     "output_type": "stream",
     "text": [
      "Loss is 0.16911759972572327\n"
     ]
    },
    {
     "name": "stderr",
     "output_type": "stream",
     "text": [
      "Epoch 18:  80%|████████  | 40/50 [00:01<00:00, 20.95batch/s, batch_nb=39, loss=nan, v_nb=18]\n",
      "Validating:   0%|          | 0/10 [00:00<?, ?batch/s]\u001b[A\n",
      "Epoch 18:  86%|████████▌ | 43/50 [00:01<00:00, 23.89batch/s, batch_nb=39, loss=nan, v_nb=18]\n",
      "Epoch 18: 100%|██████████| 50/50 [00:02<00:00, 25.75batch/s, batch_nb=39, loss=nan, v_nb=18]\n",
      "Epoch 19:   6%|▌         | 3/50 [00:00<00:01, 23.57batch/s, batch_nb=2, loss=nan, v_nb=18]  "
     ]
    },
    {
     "name": "stdout",
     "output_type": "stream",
     "text": [
      "Loss is 0.16855651140213013\n"
     ]
    },
    {
     "name": "stderr",
     "output_type": "stream",
     "text": [
      "Epoch 19:  80%|████████  | 40/50 [00:01<00:00, 23.51batch/s, batch_nb=39, loss=nan, v_nb=18]\n",
      "Validating:   0%|          | 0/10 [00:00<?, ?batch/s]\u001b[A\n",
      "Epoch 19:  88%|████████▊ | 44/50 [00:01<00:00, 27.13batch/s, batch_nb=39, loss=nan, v_nb=18]\n",
      "Epoch 19: 100%|██████████| 50/50 [00:02<00:00, 29.05batch/s, batch_nb=39, loss=nan, v_nb=18]\n",
      "Epoch 20:   8%|▊         | 4/50 [00:00<00:01, 27.62batch/s, batch_nb=3, loss=nan, v_nb=18]  "
     ]
    },
    {
     "name": "stdout",
     "output_type": "stream",
     "text": [
      "Loss is 0.180362731218338\n"
     ]
    },
    {
     "name": "stderr",
     "output_type": "stream",
     "text": [
      "Epoch 20:  80%|████████  | 40/50 [00:01<00:00, 24.81batch/s, batch_nb=39, loss=0.145, v_nb=18]\n",
      "Validating:   0%|          | 0/10 [00:00<?, ?batch/s]\u001b[A\n",
      "Epoch 20:  88%|████████▊ | 44/50 [00:01<00:00, 26.86batch/s, batch_nb=39, loss=0.145, v_nb=18]\n",
      "Epoch 20: 100%|██████████| 50/50 [00:01<00:00, 28.37batch/s, batch_nb=39, loss=0.145, v_nb=18]\n",
      "Epoch 21:   8%|▊         | 4/50 [00:00<00:01, 26.23batch/s, batch_nb=3, loss=0.147, v_nb=18]  "
     ]
    },
    {
     "name": "stdout",
     "output_type": "stream",
     "text": [
      "Loss is 0.20416836440563202\n"
     ]
    },
    {
     "name": "stderr",
     "output_type": "stream",
     "text": [
      "Epoch 21:  80%|████████  | 40/50 [00:01<00:00, 19.91batch/s, batch_nb=39, loss=nan, v_nb=18]  \n",
      "Validating:   0%|          | 0/10 [00:00<?, ?batch/s]\u001b[A\n",
      "Epoch 21:  88%|████████▊ | 44/50 [00:01<00:00, 23.43batch/s, batch_nb=39, loss=nan, v_nb=18]\n",
      "Epoch 21: 100%|██████████| 50/50 [00:02<00:00, 26.00batch/s, batch_nb=39, loss=nan, v_nb=18]\n",
      "Epoch 22:   8%|▊         | 4/50 [00:00<00:01, 24.73batch/s, batch_nb=3, loss=nan, v_nb=18]  "
     ]
    },
    {
     "name": "stdout",
     "output_type": "stream",
     "text": [
      "Loss is 0.21083196997642517\n"
     ]
    },
    {
     "name": "stderr",
     "output_type": "stream",
     "text": [
      "Epoch 22:  80%|████████  | 40/50 [00:01<00:00, 22.18batch/s, batch_nb=39, loss=nan, v_nb=18]\n",
      "Validating:   0%|          | 0/10 [00:00<?, ?batch/s]\u001b[A\n",
      "Epoch 22:  88%|████████▊ | 44/50 [00:01<00:00, 25.62batch/s, batch_nb=39, loss=nan, v_nb=18]\n",
      "Epoch 22: 100%|██████████| 50/50 [00:01<00:00, 27.90batch/s, batch_nb=39, loss=nan, v_nb=18]\n",
      "Epoch 23:   8%|▊         | 4/50 [00:00<00:01, 26.17batch/s, batch_nb=3, loss=nan, v_nb=18]  "
     ]
    },
    {
     "name": "stdout",
     "output_type": "stream",
     "text": [
      "Loss is 0.1919921487569809\n"
     ]
    },
    {
     "name": "stderr",
     "output_type": "stream",
     "text": [
      "Epoch 23:  80%|████████  | 40/50 [00:01<00:00, 22.34batch/s, batch_nb=39, loss=nan, v_nb=18]\n",
      "Validating:   0%|          | 0/10 [00:00<?, ?batch/s]\u001b[A\n",
      "Epoch 23:  88%|████████▊ | 44/50 [00:01<00:00, 26.04batch/s, batch_nb=39, loss=nan, v_nb=18]\n",
      "Epoch 23: 100%|██████████| 50/50 [00:02<00:00, 28.25batch/s, batch_nb=39, loss=nan, v_nb=18]\n",
      "Epoch 24:   8%|▊         | 4/50 [00:00<00:01, 26.57batch/s, batch_nb=3, loss=nan, v_nb=18]  "
     ]
    },
    {
     "name": "stdout",
     "output_type": "stream",
     "text": [
      "Loss is 0.1925114095211029\n"
     ]
    },
    {
     "name": "stderr",
     "output_type": "stream",
     "text": [
      "Epoch 24:  80%|████████  | 40/50 [00:01<00:00, 21.32batch/s, batch_nb=39, loss=nan, v_nb=18]\n",
      "Epoch 24:  82%|████████▏ | 41/50 [00:01<00:00, 23.63batch/s, batch_nb=39, loss=nan, v_nb=18]\n",
      "Epoch 24:  90%|█████████ | 45/50 [00:01<00:00, 26.06batch/s, batch_nb=39, loss=nan, v_nb=18]\n",
      "Epoch 24: 100%|██████████| 50/50 [00:02<00:00, 28.44batch/s, batch_nb=39, loss=nan, v_nb=18]\n",
      "Epoch 25:   0%|          | 0/50 [00:00<00:01, 28.44batch/s, batch_nb=39, loss=nan, v_nb=18] "
     ]
    }
   ],
   "source": [
    "s = Siamese(data[:20000], data[20000:], batch_size = 512)\n",
    "s.train_network(num_epochs = 25)"
   ]
  },
  {
   "cell_type": "code",
   "execution_count": 8,
   "metadata": {},
   "outputs": [],
   "source": [
    "exit()"
   ]
  },
  {
   "cell_type": "code",
   "execution_count": null,
   "metadata": {},
   "outputs": [],
   "source": []
  }
 ],
 "metadata": {
  "kernelspec": {
   "display_name": "Python 3",
   "language": "python",
   "name": "python3"
  },
  "language_info": {
   "codemirror_mode": {
    "name": "ipython",
    "version": 3
   },
   "file_extension": ".py",
   "mimetype": "text/x-python",
   "name": "python",
   "nbconvert_exporter": "python",
   "pygments_lexer": "ipython3",
   "version": "3.7.5"
  }
 },
 "nbformat": 4,
 "nbformat_minor": 2
}
